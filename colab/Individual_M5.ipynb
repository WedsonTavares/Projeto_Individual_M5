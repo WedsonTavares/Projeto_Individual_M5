{
  "nbformat": 4,
  "nbformat_minor": 0,
  "metadata": {
    "colab": {
      "provenance": [],
      "authorship_tag": "ABX9TyPTAy7mA6ZLciMzVhBwPBHj",
      "include_colab_link": true
    },
    "kernelspec": {
      "name": "python3",
      "display_name": "Python 3"
    },
    "language_info": {
      "name": "python"
    }
  },
  "cells": [
    {
      "cell_type": "markdown",
      "metadata": {
        "id": "view-in-github",
        "colab_type": "text"
      },
      "source": [
        "<a href=\"https://colab.research.google.com/github/WedsonTavares/Projeto_Individual_M5/blob/main/Individual_M5.ipynb\" target=\"_parent\"><img src=\"https://colab.research.google.com/assets/colab-badge.svg\" alt=\"Open In Colab\"/></a>"
      ]
    },
    {
      "cell_type": "markdown",
      "source": [
        "Análise das Causas da Rotatividade de Pessoal na Empresa e Sugestões para Resolvê-las:\n",
        "\n",
        "Introdução:\n",
        "A retenção de talentos desempenha um papel crítico no êxito de qualquer organização. Compreender as razões por trás das saídas dos funcionários é fundamental para implementar estratégias de melhoria. Este relatório investiga as causas das saídas de funcionários na organização de marketing e apresenta soluções com base em análises abrangentes dos dados.\n",
        "\n",
        "A Jornada pelos Dados da Organização:\n",
        "Imagine-se em um ambiente repleto de informações, onde cada gráfico e estatística é uma pista em busca da verdade. Como um analista de dados recém-contratado, você recebeu uma missão crucial: colaborar com o Parceiro de Recursos Humanos (HRBP) para desvendar os mistérios por trás da rotatividade de funcionários em toda a organização de marketing. Seu superior, o Chief Marketing Officer (CMO), está ansioso por respostas claras que possam fornecer insights e orientar futuras ações.\n",
        "\n",
        "Fonte dos Dados:\n",
        "Os dados foram coletados por meio de entrevistas com o HRBP e uma pesquisa de saída. As situações identificadas foram traduzidas em uma representação visual intrigante, que atua como fragmentos de um quebra-cabeça maior, indicando possíveis motivos pelos quais os funcionários estão deixando a empresa:\n",
        "\n",
        "Falta de treinamento adequado.\n",
        "Conflitos interpessoais.\n",
        "Carência de reconhecimento.\n",
        "Jornadas de trabalho excessivas.\n",
        "Escassez de oportunidades de avanço na carreira.\n",
        "Remuneração considerada insuficiente.\n",
        "Insatisfação com a natureza do trabalho.\n",
        "Desejo de mudar de carreira.\n",
        "Dificuldades relacionadas ao deslocamento.\n",
        "Necessidade de realocação.\n",
        "Problemas de saúde.\n"
      ],
      "metadata": {
        "id": "uYxDWUH2oXH0"
      }
    },
    {
      "cell_type": "markdown",
      "source": [
        "![Gráfico Inicial](https://github.com/WedsonTavares/Projeto_Individual_M5/blob/main/imagens/Captura%20de%20tela%202023-09-13%20093303.png?raw=true)"
      ],
      "metadata": {
        "id": "6NRGavDw_CTN"
      }
    },
    {
      "cell_type": "markdown",
      "source": [
        "O gráfico de bolhas representa diferentes motivos que levam os funcionários a deixar a organização. Cada motivo é categorizado e quantificado com base nos dados fornecidos, e a representação gráfica ajuda a visualizar a importância relativa de cada causa.\n",
        "\n",
        "Treinamento (11):\n",
        "\n",
        "A bolha correspondente ao motivo \"Treinamento\" é a maior no gráfico, indicando que é a causa mais frequentemente mencionada para a rotatividade de pessoal. Isso significa que um número significativo de funcionários está deixando a empresa devido à insuficiência de treinamento.\n",
        "Conflito com Outros (10):\n",
        "\n",
        "O motivo \"Conflito com Outros\" é representado por uma bolha próxima em tamanho à do \"Treinamento\". Isso sugere que conflitos interpessoais também desempenham um papel importante na saída dos funcionários, embora ligeiramente menos comum do que a falta de treinamento.\n",
        "Falta de Conhecimento (9):\n",
        "\n",
        "A bolha para \"Falta de Conhecimento\" é a terceira maior, indicando que muitos funcionários citam a falta de conhecimento adequado como uma razão para deixar a empresa.\n",
        "Carga Horária (8):\n",
        "\n",
        "A bolha associada à \"Carga Horária\" é relativamente grande, mostrando que muitos funcionários consideram longas jornadas de trabalho como um motivo para sair.\n",
        "Avanço de Carreira (7):\n",
        "\n",
        "O motivo \"Avanço de Carreira\" é representado por uma bolha de tamanho médio, sugerindo que um número razoável de funcionários busca oportunidades de crescimento e saem quando não as encontram.\n",
        "Remuneração (6):\n",
        "\n",
        "A bolha correspondente à \"Remuneração\" é menor do que as anteriores, mas ainda considerável, indicando que a insatisfação com o salário é uma causa relevante de saída.\n",
        "Tipo de Trabalho (5):\n",
        "\n",
        "A bolha relacionada ao \"Tipo de Trabalho\" é de tamanho médio, sugerindo que a natureza das responsabilidades desempenha um papel considerável nas decisões de saída dos funcionários.\n",
        "Mudança de Carreira (4):\n",
        "\n",
        "A bolha para \"Mudança de Carreira\" é menor, mas ainda significativa, indicando que alguns funcionários deixam a empresa para seguir novas direções profissionais.\n",
        "Trajeto (3):\n",
        "\n",
        "A bolha correspondente ao \"Trajeto\" é pequena, sugerindo que apenas um número limitado de funcionários menciona o trajeto como motivo para a saída.\n",
        "Realocação (2):\n",
        "\n",
        "A bolha associada à \"Realocação\" é a menor de todas, indicando que muito poucos funcionários citam a necessidade de mudar de localização como razão para sair.\n",
        "Doença (1):\n",
        "\n",
        "A bolha referente à \"Doença\" é a menor e indica que apenas um número muito reduzido de funcionários deixa a empresa devido a problemas de saúde.\n",
        "Em resumo, o gráfico de bolhas destaca as principais causas da rotatividade de pessoal na empresa, com ênfase na falta de treinamento, conflitos interpessoais e falta de conhecimento. Isso fornece uma visão clara das áreas que precisam de atenção e ação para melhorar a retenção de talentos na organização.\n"
      ],
      "metadata": {
        "id": "RcvdQeHlob6L"
      }
    },
    {
      "cell_type": "markdown",
      "source": [
        "![Gráfico 2](https://github.com/WedsonTavares/Projeto_Individual_M5/blob/main/imagens/Captura%20de%20tela%202023-09-13%20101936.png?raw=true)"
      ],
      "metadata": {
        "id": "iK09iWac_Xgz"
      }
    },
    {
      "cell_type": "markdown",
      "source": [
        "O gráfico 2 representa as causas da rotatividade de pessoal na empresa com base nos números fornecidos para cada motivo. Cada barra no gráfico representa um motivo específico e sua altura reflete a quantidade de vezes que esse motivo foi mencionado como causa de saída dos funcionários. Aqui está uma narrativa clara do que está ocorrendo no gráfico de barras:\n",
        "\n",
        "Avanço de Carreira (137):\n",
        "\n",
        "A barra associada ao \"Avanço de Carreira\" é a mais alta no gráfico, indicando que esse motivo é o mais frequentemente mencionado como causa de saída. Um número significativo de funcionários busca oportunidades de crescimento e sai quando não as encontra.\n",
        "Tipo de Trabalho (128):\n",
        "\n",
        "A barra correspondente ao \"Tipo de Trabalho\" é quase tão alta quanto a do \"Avanço de Carreira\", o que sugere que a natureza das responsabilidades desempenha um papel importante nas decisões de saída dos funcionários.\n",
        "Realocação (105):\n",
        "\n",
        "A barra associada à \"Realocação\" é a terceira mais alta, indicando que muitos funcionários citam a necessidade de mudar de localização como motivo para deixar a empresa.\n",
        "Falta de Conhecimento (65):\n",
        "\n",
        "A barra para \"Falta de Conhecimento\" é considerável, mostrando que um número substancial de funcionários menciona a falta de treinamento adequado como uma razão para a rotatividade.\n",
        "Remuneração (16):\n",
        "\n",
        "A barra correspondente à \"Remuneração\" é muito menor em comparação com as razões anteriores, indicando que a insatisfação com o salário é mencionada por um número limitado de funcionários como causa de saída.\n",
        "Mudança de Carreira (18):\n",
        "\n",
        "A barra relacionada à \"Mudança de Carreira\" é de tamanho médio, sugerindo que alguns funcionários saem para seguir novas direções profissionais.\n",
        "Carga Horária (14):\n",
        "\n",
        "A barra para \"Carga Horária\" é relativamente baixa em comparação com outras razões, indicando que um número limitado de funcionários considera longas jornadas de trabalho como um motivo para sair.\n",
        "Conflito com Outros (11):\n",
        "\n",
        "A barra associada a \"Conflito com Outros\" é menor ainda, sugerindo que apenas um número reduzido de funcionários menciona conflitos interpessoais como razão para a rotatividade.\n",
        "Trajeto (31):\n",
        "\n",
        "A barra referente ao \"Trajeto\" é moderada, mostrando que um número razoável de funcionários menciona o trajeto como motivo de saída.\n",
        "Treinamento (31):\n",
        "\n",
        "A barra para \"Treinamento\" tem uma altura semelhante à do \"Trajeto\", indicando que um número igualmente considerável de funcionários considera a falta de treinamento adequado como causa de saída.\n",
        "Doença (9):\n",
        "\n",
        "A barra associada à \"Doença\" é a menor no gráfico, sugerindo que apenas um número muito limitado de funcionários deixa a empresa devido a problemas de saúde.\n",
        "Em resumo, o gráfico de barras destaca as principais causas da rotatividade de pessoal na empresa, com ênfase nas buscas por avanço de carreira e na natureza do trabalho. Essas informações são valiosas para identificar áreas que requerem atenção e esforços para melhorar a retenção de talentos na organização."
      ],
      "metadata": {
        "id": "Lj7gjSelolCo"
      }
    },
    {
      "cell_type": "markdown",
      "source": [
        "![Gráfico 3](https://github.com/WedsonTavares/Projeto_Individual_M5/blob/main/imagens/Captura%20de%20tela%202023-09-13%20102007.png?raw=true)"
      ],
      "metadata": {
        "id": "xnS7PXWw_p8r"
      }
    },
    {
      "cell_type": "markdown",
      "source": [
        "O gráfico 3 representa as causas da rotatividade de pessoal na empresa com base nos números fornecidos para cada motivo. Cada barra no gráfico representa um motivo específico, e a altura da barra reflete a quantidade de vezes que esse motivo foi mencionado como causa de saída dos funcionários. Aqui está uma narrativa clara do que está ocorrendo no gráfico de barras:\n",
        "\n",
        "Avanço de Carreira (171):\n",
        "\n",
        "A barra associada ao \"Avanço de Carreira\" é a mais alta no gráfico, indicando que esse motivo é o mais frequentemente mencionado como causa de saída. Um grande número de funcionários busca oportunidades de crescimento e sai quando não as encontra.\n",
        "Tipo de Trabalho (78):\n",
        "\n",
        "A barra correspondente ao \"Tipo de Trabalho\" é consideravelmente alta, sugerindo que a natureza das responsabilidades desempenha um papel importante nas decisões de saída dos funcionários.\n",
        "Falta de Reconhecimento (44):\n",
        "\n",
        "A barra associada à \"Falta de Reconhecimento\" é significativa, mostrando que muitos funcionários mencionam a falta de reconhecimento como uma razão para a rotatividade.\n",
        "Carga Horária (39):\n",
        "\n",
        "A barra para \"Carga Horária\" é considerável, indicando que um número substancial de funcionários considera longas jornadas de trabalho como motivo para sair.\n",
        "Remuneração (24):\n",
        "\n",
        "A barra correspondente à \"Remuneração\" é menor em comparação com as razões anteriores, mas ainda relevante, indicando que a insatisfação com o salário é mencionada por alguns funcionários como causa de saída.\n",
        "Mudança de Carreira (30):\n",
        "\n",
        "A barra relacionada à \"Mudança de Carreira\" é de tamanho médio, sugerindo que alguns funcionários saem para seguir novas direções profissionais.\n",
        "Relocação (37):\n",
        "\n",
        "A barra associada à \"Relocação\" é moderada, mostrando que um número razoável de funcionários menciona a necessidade de mudar de localização como motivo de saída.\n",
        "Treinamento (23):\n",
        "\n",
        "A barra para \"Treinamento\" é menor, indicando que um número limitado de funcionários considera a falta de treinamento adequado como causa de saída.\n",
        "Trajeto (22):\n",
        "\n",
        "A barra referente ao \"Trajeto\" é comparável em tamanho à do \"Treinamento\", sugerindo que um número igualmente considerável de funcionários menciona o trajeto como motivo de saída.\n",
        "Doença (21):\n",
        "\n",
        "A barra associada à \"Doença\" é relativamente baixa, indicando que apenas um número limitado de funcionários deixa a empresa devido a problemas de saúde.\n",
        "Conflito com Outros (15):\n",
        "\n",
        "A barra correspondente ao \"Conflito com Outros\" é a menor no gráfico, sugerindo que apenas um número muito reduzido de funcionários menciona conflitos interpessoais como razão para a rotatividade.\n",
        "Em resumo, o gráfico de barras destaca as principais causas da rotatividade de pessoal na empresa, com ênfase nas buscas por avanço de carreira, natureza do trabalho e falta de reconhecimento. Essas informações são valiosas para identificar áreas que requerem atenção e esforços para melhorar a retenção de talentos na organização."
      ],
      "metadata": {
        "id": "9vk3CNFCoyk0"
      }
    },
    {
      "cell_type": "markdown",
      "source": [
        "![gráfico 4](https://github.com/WedsonTavares/Projeto_Individual_M5/blob/main/imagens/Captura%20de%20tela%202023-09-13%20102025.png?raw=true)"
      ],
      "metadata": {
        "id": "vyoMSHQB_5Xz"
      }
    },
    {
      "cell_type": "markdown",
      "source": [
        "No primeiro conjunto de dados:\n",
        "\n",
        "\"Avanço de Carreira\" (137) é a principal causa de saída, seguida de \"Tipo de Trabalho\" (128).\n",
        "\"Realocação\" (105) é a terceira causa mais comum, seguida por \"Falta de Conhecimento\" (65).\n",
        "\"Remuneração\" (16) é mencionada por um número limitado de funcionários como motivo de saída.\n",
        "\"Doença\" (9) é a causa menos comum.\n",
        "No segundo conjunto de dados:\n",
        "\n",
        "\"Avanço de Carreira\" (171) continua sendo a principal causa de saída, mas sua prevalência aumentou significativamente em comparação com o primeiro conjunto de dados.\n",
        "\"Tipo de Trabalho\" (78) é novamente a segunda causa mais comum, mas também aumentou em relação ao primeiro conjunto de dados.\n",
        "\"Falta de Reconhecimento\" (44) agora é uma causa relevante, enquanto não estava presente no primeiro conjunto de dados.\n",
        "\"Carga Horária\" (39) é outra causa comum, mas também aumentou em relação ao primeiro conjunto de dados.\n",
        "\"Realocação\" (37) é mencionada mais frequentemente do que no primeiro conjunto de dados.\n",
        "\"Treinamento\" (23) e \"Trajeto\" (22) são causas menos comuns, mas ainda relevantes.\n",
        "\"Doença\" (21) também aumentou em comparação com o primeiro conjunto de dados, embora continue sendo uma causa menos comum.\n",
        "\"Conflito com Outros\" (15) é a causa menos comum nos dois conjuntos de dados.\n",
        "Em resumo, a principal diferença entre os dois conjuntos de dados é que no segundo conjunto, \"Avanço de Carreira\" é ainda mais predominante, e novos motivos, como \"Falta de Reconhecimento\" e \"Carga Horária\", ganharam importância em comparação com o primeiro conjunto de dados. Isso sugere que as prioridades e as causas da rotatividade de pessoal podem ter evoluído ao longo do tempo na empresa.\n"
      ],
      "metadata": {
        "id": "oAqKFVEco40B"
      }
    },
    {
      "cell_type": "markdown",
      "source": [
        "![Gráfico 5](https://github.com/WedsonTavares/Projeto_Individual_M5/blob/main/imagens/Captura%20de%20tela%202023-09-13%20102041.png?raw=true)"
      ],
      "metadata": {
        "id": "xYcPtRFgAAVw"
      }
    },
    {
      "cell_type": "markdown",
      "source": [
        "Com base nos dados fornecidos, aqui estão as médias para cada motivo de rotatividade de pessoal:\n",
        "\n",
        "Média para \"Avanço de Carreira\": 154\n",
        "Média para \"Realocação\": 71\n",
        "Média para \"Tipo de Trabalho\": 103\n",
        "Média para \"Treinamento\": 27\n",
        "Média para \"Trajeto\": 26,5\n",
        "Média para \"Carga Horária\": 26,5\n",
        "Média para \"Falta de Reconhecimento\": 54,5\n",
        "Média para \"Mudança de Carreira\": 24\n",
        "Média para \"Doença\": 15\n",
        "Média para \"Conflito com Outros\": 13\n",
        "Essas médias representam a quantidade média de vezes que cada motivo foi mencionado como causa de saída pelos funcionários com base nos dados fornecidos. Essas informações podem ajudar a empresa a priorizar e abordar as principais causas de rotatividade de pessoal, focando em áreas onde as médias são mais altas.\n"
      ],
      "metadata": {
        "id": "k76UCU86o8r4"
      }
    },
    {
      "cell_type": "markdown",
      "source": [
        "![Gráfico 6](https://github.com/WedsonTavares/Projeto_Individual_M5/blob/main/imagens/Captura%20de%20tela%202023-09-13%20102110.png?raw=true)"
      ],
      "metadata": {
        "id": "AmD5BsJmAHlP"
      }
    }
  ]
}