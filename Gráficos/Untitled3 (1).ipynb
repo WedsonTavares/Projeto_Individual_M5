{
  "nbformat": 4,
  "nbformat_minor": 0,
  "metadata": {
    "colab": {
      "provenance": []
    },
    "kernelspec": {
      "name": "python3",
      "display_name": "Python 3"
    },
    "language_info": {
      "name": "python"
    }
  },
  "cells": [
    {
      "cell_type": "markdown",
      "source": [
        "![Gráfico Inicial](https://github.com/WedsonTavares/Projeto_Individual_M5/blob/main/imagens/Captura%20de%20tela%202023-09-13%20093303.png?raw=true)"
      ],
      "metadata": {
        "id": "6NRGavDw_CTN"
      }
    },
    {
      "cell_type": "markdown",
      "source": [
        "![Gráfico 2](https://github.com/WedsonTavares/Projeto_Individual_M5/blob/main/imagens/Captura%20de%20tela%202023-09-13%20101936.png?raw=true)"
      ],
      "metadata": {
        "id": "iK09iWac_Xgz"
      }
    },
    {
      "cell_type": "markdown",
      "source": [
        "![Gráfico 3](https://github.com/WedsonTavares/Projeto_Individual_M5/blob/main/imagens/Captura%20de%20tela%202023-09-13%20102007.png?raw=true)"
      ],
      "metadata": {
        "id": "xnS7PXWw_p8r"
      }
    },
    {
      "cell_type": "markdown",
      "source": [
        "![gráfico 4](https://github.com/WedsonTavares/Projeto_Individual_M5/blob/main/imagens/Captura%20de%20tela%202023-09-13%20102025.png?raw=true)"
      ],
      "metadata": {
        "id": "vyoMSHQB_5Xz"
      }
    },
    {
      "cell_type": "markdown",
      "source": [
        "![Gráfico 5](https://github.com/WedsonTavares/Projeto_Individual_M5/blob/main/imagens/Captura%20de%20tela%202023-09-13%20102041.png?raw=true)"
      ],
      "metadata": {
        "id": "xYcPtRFgAAVw"
      }
    },
    {
      "cell_type": "markdown",
      "source": [
        "![Gráfico 6](https://github.com/WedsonTavares/Projeto_Individual_M5/blob/main/imagens/Captura%20de%20tela%202023-09-13%20102110.png?raw=true)"
      ],
      "metadata": {
        "id": "AmD5BsJmAHlP"
      }
    }
  ]
}