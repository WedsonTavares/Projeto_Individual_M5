{
 "cells": [
  {
   "cell_type": "markdown",
   "metadata": {},
   "source": [
    "Análise das Causas da Rotatividade de Pessoal na Empresa e Sugestões para Resolvê-las:\n",
    "\n",
    "Introdução:\n",
    "A retenção de talentos desempenha um papel crítico no êxito de qualquer organização. Compreender as razões por trás das saídas dos funcionários é fundamental para implementar estratégias de melhoria. Este relatório investiga as causas das saídas de funcionários na organização de marketing e apresenta soluções com base em análises abrangentes dos dados.\n",
    "\n",
    "A Jornada pelos Dados da Organização:\n",
    "Imagine-se em um ambiente repleto de informações, onde cada gráfico e estatística é uma pista em busca da verdade. Como um analista de dados recém-contratado, você recebeu uma missão crucial: colaborar com o Parceiro de Recursos Humanos (HRBP) para desvendar os mistérios por trás da rotatividade de funcionários em toda a organização de marketing. Seu superior, o Chief Marketing Officer (CMO), está ansioso por respostas claras que possam fornecer insights e orientar futuras ações.\n",
    "\n",
    "Fonte dos Dados:\n",
    "Os dados foram coletados por meio de entrevistas com o HRBP e uma pesquisa de saída. As situações identificadas foram traduzidas em uma representação visual intrigante, que atua como fragmentos de um quebra-cabeça maior, indicando possíveis motivos pelos quais os funcionários estão deixando a empresa:\n",
    "\n",
    "Falta de treinamento adequado.\n",
    "Conflitos interpessoais.\n",
    "Carência de reconhecimento.\n",
    "Jornadas de trabalho excessivas.\n",
    "Escassez de oportunidades de avanço na carreira.\n",
    "Remuneração considerada insuficiente.\n",
    "Insatisfação com a natureza do trabalho.\n",
    "Desejo de mudar de carreira.\n",
    "Dificuldades relacionadas ao deslocamento.\n",
    "Necessidade de realocação.\n",
    "Problemas de saúde."
   ]
  },
  {
   "cell_type": "code",
   "execution_count": 5,
   "metadata": {},
   "outputs": [
    {
     "name": "stderr",
     "output_type": "stream",
     "text": [
      "'[Gr�fico' n�o � reconhecido como um comando interno\n",
      "ou externo, um programa oper�vel ou um arquivo em lotes.\n"
     ]
    }
   ],
   "source": [
    "![Gráfico Inicial](https://github.com/WedsonTavares/Projeto_Individual_M5/blob/main/imagens/Captura%20de%20tela%202023-09-13%20093303.png?raw=true)"
   ]
  }
 ],
 "metadata": {
  "kernelspec": {
   "display_name": "Python 3",
   "language": "python",
   "name": "python3"
  },
  "language_info": {
   "codemirror_mode": {
    "name": "ipython",
    "version": 3
   },
   "file_extension": ".py",
   "mimetype": "text/x-python",
   "name": "python",
   "nbconvert_exporter": "python",
   "pygments_lexer": "ipython3",
   "version": "3.11.4"
  },
  "orig_nbformat": 4
 },
 "nbformat": 4,
 "nbformat_minor": 2
}
